{
 "cells": [
  {
   "cell_type": "markdown",
   "id": "0dbc0da9-c40b-4d54-bbde-df03fc5fbad2",
   "metadata": {
    "tags": []
   },
   "source": [
    "# Data Preprocessing"
   ]
  },
  {
   "cell_type": "markdown",
   "id": "a9cd84e1-b512-4470-8261-02e6a41e0163",
   "metadata": {},
   "source": [
    "#### Importing Libraries"
   ]
  },
  {
   "cell_type": "code",
   "execution_count": 99,
   "id": "805e825a-4aad-4896-802b-62bb0f8c01d9",
   "metadata": {},
   "outputs": [],
   "source": [
    "import os\n",
    "import hashlib\n",
    "import numpy as np\n",
    "import cv2 \n",
    "import matplotlib.pyplot as plt\n",
    "import matplotlib.gridspec as gridspec\n",
    "import time\n",
    "import tensorflow\n",
    "import keras\n",
    "import glob\n",
    "from skimage import io\n",
    "%matplotlib inline"
   ]
  },
  {
   "cell_type": "markdown",
   "id": "0446eab4-f0ad-4bb0-87f7-8ad58282ed4c",
   "metadata": {},
   "source": [
    "#### Removing Duplicates (not done yet)"
   ]
  },
  {
   "cell_type": "code",
   "execution_count": 52,
   "id": "05b4de11-af50-4c79-95a9-e3cd8970f875",
   "metadata": {},
   "outputs": [],
   "source": [
    "# definition for iterating over folders in a directory\n",
    "def open_folders(directory):\n",
    "    # returns a list of all entries (files, folders) in the directory\n",
    "    for e in os.listdir(directory):\n",
    "        ep = os.path.join(directory, e) # gets full path of each entry\n",
    "        # checking if the entry is a directory\n",
    "        if os.path.isdir(ep):\n",
    "            print(f\"Food folder: {e}\")\n",
    "            print(ep)\n",
    "\n",
    "directory = 'C:/Users/Administrator/Desktop/CPS843/project/food-100'\n",
    "#open_folders(directory)"
   ]
  },
  {
   "cell_type": "code",
   "execution_count": null,
   "id": "1612c81e-9448-4831-a974-34195acd3c3a",
   "metadata": {},
   "outputs": [],
   "source": [
    "# function for generating hash value for each image\n"
   ]
  },
  {
   "cell_type": "markdown",
   "id": "e7630776-7c1c-44d0-9a9a-983677dfe6f6",
   "metadata": {},
   "source": [
    "#### Image Preprocessing"
   ]
  },
  {
   "cell_type": "code",
   "execution_count": 91,
   "id": "0f81052d-17ea-42e1-be0c-d17edabc2d7c",
   "metadata": {},
   "outputs": [],
   "source": [
    "# loading the dataset into a data frame\n",
    "img_files = [][]\n",
    "def image_paths(dataset_path, class_names): # definition to have the paths of images of each folder in a list\n",
    "    for class_name in class_names:\n",
    "        food_path = os.path.join(dataset_path, class_name, '*')\n",
    "        # applying glob module to retreive files/pathnames\n",
    "        food_path = glob.glob(food_path)\n",
    "        img_files.extend(food_path)\n",
    "    return img_files\n",
    "\n",
    "dataset_path = 'C:/Users/Administrator/Desktop/CPS843/project/food-100'\n",
    "class_names = ['apple_pie', 'bruschetta', 'cup_cakes', 'pizza', 'sushi']\n",
    "files_list = image_paths(dataset_path, class_names)\n",
    "#print(files_list)\n",
    "\n",
    "# visualizing the data\n",
    "# checking if data is properly loaded by accessing an image file\n",
    "# image = io.imread(files_list[250])\n",
    "# print(files_list[2])\n",
    "# # plotting the random image\n",
    "# # uncomment the following three lines of code to check the image\n",
    "# i, (im1) = plt.subplots(1)\n",
    "# i.set_figwidth(20)\n",
    "# im1.imshow(image)"
   ]
  },
  {
   "cell_type": "markdown",
   "id": "158dd778-9b4f-4a64-b8a6-1cff6860c2d5",
   "metadata": {},
   "source": [
    "##### Grayscale conversion"
   ]
  },
  {
   "cell_type": "code",
   "execution_count": 102,
   "id": "7742ba2b-8dc3-4716-b62c-217998bb9e76",
   "metadata": {},
   "outputs": [],
   "source": [
    "# definition converting the each folder of images to grayscale\n",
    "def convToGrayscale(ipFolder, opFolder):\n",
    "    # create the output folder if it does not exist\n",
    "    os.makedirs(opFolder, exist_ok=True)\n",
    "    \n",
    "    # iterating through each class folder\n",
    "    for i in os.listdir(ipFolder):\n",
    "        fpath = os.path.join(ipFolder, i)\n",
    "        # iterating over the different class folders\n",
    "        if os.path.isdir(fpath):\n",
    "            # creating a folder for grayscale images\n",
    "            opClass_folder = os.path.join(opFolder, i)\n",
    "            os.makedirs(opClass_folder, exist_ok=True)\n",
    "            \n",
    "            # iterating through each image in the class folder\n",
    "            for img in os.listdir(fpath):\n",
    "                img = os.path.join(fpath, img)\n",
    "                clr_img = cv2.imread(img)\n",
    "                gray_img = cv2.cvtColor(clr_img, cv2.COLOR_BGR2GRAY)\n",
    "                \n",
    "                # saving the grayscale images to the output folder\n",
    "                opFolder = os.path.join(opClass_folder, img)\n",
    "                cv2.imwrite(opFolder, gray_img)\n",
    "\n",
    "# inputFolder = 'C:/Users/Administrator/Desktop/CPS843/project/food-100'\n",
    "# outputFolder = 'C:/Users/Administrator/Desktop/CPS843/project/grayscale'\n",
    "# convToGrayscale(inputFolder, outputFolder)"
   ]
  },
  {
   "cell_type": "markdown",
   "id": "cb7b079a-13d9-4d99-a457-cf758e0fa67f",
   "metadata": {},
   "source": [
    "##### Normalization"
   ]
  },
  {
   "cell_type": "markdown",
   "id": "929ac565-73aa-4df6-8733-cf3eed9da34b",
   "metadata": {},
   "source": [
    "##### Data Augmentation"
   ]
  },
  {
   "cell_type": "markdown",
   "id": "2ebe8f6e-813e-4bce-947e-15ba593257bd",
   "metadata": {},
   "source": [
    "##### Image standardization"
   ]
  },
  {
   "cell_type": "code",
   "execution_count": null,
   "id": "b1f13a0d-4e06-43f8-8a9e-dbb0c6f71e2f",
   "metadata": {},
   "outputs": [],
   "source": []
  }
 ],
 "metadata": {
  "kernelspec": {
   "display_name": "Python 3 (ipykernel)",
   "language": "python",
   "name": "python3"
  },
  "language_info": {
   "codemirror_mode": {
    "name": "ipython",
    "version": 3
   },
   "file_extension": ".py",
   "mimetype": "text/x-python",
   "name": "python",
   "nbconvert_exporter": "python",
   "pygments_lexer": "ipython3",
   "version": "3.9.13"
  }
 },
 "nbformat": 4,
 "nbformat_minor": 5
}
